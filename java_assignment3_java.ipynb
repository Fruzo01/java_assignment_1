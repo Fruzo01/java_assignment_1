{
  "nbformat": 4,
  "nbformat_minor": 0,
  "metadata": {
    "colab": {
      "provenance": [],
      "authorship_tag": "ABX9TyMIJ1TRmkaT72uthZ8VnJDE",
      "include_colab_link": true
    },
    "kernelspec": {
      "name": "python3",
      "display_name": "Python 3"
    },
    "language_info": {
      "name": "python"
    }
  },
  "cells": [
    {
      "cell_type": "markdown",
      "metadata": {
        "id": "view-in-github",
        "colab_type": "text"
      },
      "source": [
        "<a href=\"https://colab.research.google.com/github/Fruzo01/java_assignment_1/blob/main/java_assignment3_java.ipynb\" target=\"_parent\"><img src=\"https://colab.research.google.com/assets/colab-badge.svg\" alt=\"Open In Colab\"/></a>"
      ]
    },
    {
      "cell_type": "code",
      "execution_count": 1,
      "metadata": {
        "colab": {
          "base_uri": "https://localhost:8080/"
        },
        "id": "8DLSwZNZr2Rg",
        "outputId": "9655f6a8-99df-4764-cff0-3e86a3adcf0d"
      },
      "outputs": [
        {
          "output_type": "stream",
          "name": "stdout",
          "text": [
            "  % Total    % Received % Xferd  Average Speed   Time    Time     Time  Current\n",
            "                                 Dload  Upload   Total   Spent    Left  Speed\n",
            "\r  0     0    0     0    0     0      0      0 --:--:-- --:--:-- --:--:--     0\r100   520  100   520    0     0   3042      0 --:--:-- --:--:-- --:--:--  3058\n",
            "Update environment...\n",
            "Install Java...\n",
            "Install Jupyter java kernel...\n"
          ]
        }
      ],
      "source": [
        "!curl -O https://raw.githubusercontent.com/deepjavalibrary/d2l-java/master/tools/colab_build.sh && bash colab_build.sh\n"
      ]
    },
    {
      "cell_type": "code",
      "source": [
        "import os\n",
        "def install_java():\n",
        " !apt-get install -y openjdk-8-jdk-headless -qq > /dev/null\n",
        " os.environ[\"JAVA_HOME\"] = \"/usr/lib/jvm/java-8-openjdk-amd64\"\n",
        " !java -version\n",
        "install_java()"
      ],
      "metadata": {
        "colab": {
          "base_uri": "https://localhost:8080/"
        },
        "id": "2MCYCSEasIAc",
        "outputId": "b5857a04-6efd-4417-ee62-e1f6bcee220a"
      },
      "execution_count": 2,
      "outputs": [
        {
          "output_type": "stream",
          "name": "stdout",
          "text": [
            "openjdk version \"11.0.28\" 2025-07-15\n",
            "OpenJDK Runtime Environment (build 11.0.28+6-post-Ubuntu-1ubuntu122.04.1)\n",
            "OpenJDK 64-Bit Server VM (build 11.0.28+6-post-Ubuntu-1ubuntu122.04.1, mixed mode, sharing)\n"
          ]
        }
      ]
    },
    {
      "cell_type": "code",
      "source": [
        "%%writefile EvenThread.java\n",
        "class EvenThread extends Thread {\n",
        "    public void run() {\n",
        "        for (int i = 2; i <= 20; i += 2) {\n",
        "            System.out.println(i);\n",
        "            try { Thread.sleep(500); }\n",
        "            catch (InterruptedException e) { e.printStackTrace(); }\n",
        "        }\n",
        "    }\n",
        "\n",
        "    public static void main(String[] args) {\n",
        "        new EvenThread().start();\n",
        "    }\n",
        "}"
      ],
      "metadata": {
        "id": "MYjqnu4JsH9k",
        "colab": {
          "base_uri": "https://localhost:8080/"
        },
        "outputId": "54db6350-4bc8-43e1-e867-43fc13ec57b9"
      },
      "execution_count": null,
      "outputs": [
        {
          "output_type": "stream",
          "name": "stdout",
          "text": [
            "Writing EvenThread.java\n"
          ]
        }
      ]
    },
    {
      "cell_type": "code",
      "source": [
        "!javac EvenThread.java\n",
        "!java EvenThread"
      ],
      "metadata": {
        "id": "0udXuGGGsH54",
        "colab": {
          "base_uri": "https://localhost:8080/"
        },
        "outputId": "bed4446b-e1d1-4c83-c5d1-5bdf59896fed"
      },
      "execution_count": null,
      "outputs": [
        {
          "output_type": "stream",
          "name": "stdout",
          "text": [
            "2\n",
            "4\n",
            "6\n",
            "8\n",
            "10\n",
            "12\n",
            "14\n",
            "16\n",
            "18\n",
            "20\n"
          ]
        }
      ]
    },
    {
      "cell_type": "code",
      "source": [
        "%%writefile ReverseRunnable.java\n",
        "class ReverseRunnable implements Runnable {\n",
        "    public void run() {\n",
        "        String str = \"MULTITHREADING\";\n",
        "        for (int i = str.length() - 1; i >= 0; i--) {\n",
        "            System.out.println(str.charAt(i));\n",
        "            try { Thread.sleep(300); }\n",
        "            catch (InterruptedException e) { e.printStackTrace(); }\n",
        "        }\n",
        "    }\n",
        "\n",
        "    public static void main(String[] args) {\n",
        "        Thread t = new Thread(new ReverseRunnable());\n",
        "        t.start();\n",
        "    }\n",
        "}\n"
      ],
      "metadata": {
        "id": "mEwkF_nusH34",
        "colab": {
          "base_uri": "https://localhost:8080/"
        },
        "outputId": "dc8332d1-9fa2-4fca-b268-df141b67dd2c"
      },
      "execution_count": null,
      "outputs": [
        {
          "output_type": "stream",
          "name": "stdout",
          "text": [
            "Writing ReverseRunnable.java\n"
          ]
        }
      ]
    },
    {
      "cell_type": "code",
      "source": [
        "!javac ReverseRunnable.java\n",
        "!java ReverseRunnable"
      ],
      "metadata": {
        "id": "7EA2vWCusH0X",
        "colab": {
          "base_uri": "https://localhost:8080/"
        },
        "outputId": "e6affd7b-830f-4e9b-e368-b350df59edef"
      },
      "execution_count": null,
      "outputs": [
        {
          "output_type": "stream",
          "name": "stdout",
          "text": [
            "G\n",
            "N\n",
            "I\n",
            "D\n",
            "A\n",
            "E\n",
            "R\n",
            "H\n",
            "T\n",
            "I\n",
            "T\n",
            "L\n",
            "U\n",
            "M\n"
          ]
        }
      ]
    },
    {
      "cell_type": "code",
      "source": [
        "%%writefile ThreadSleepExample\n",
        "class ThreadSleepExample {\n",
        "    public static void main(String[] args) {\n",
        "        Thread t1 = new Thread(() -> {\n",
        "            while (true) {\n",
        "                System.out.println(\"Thread 1\");\n",
        "                try { Thread.sleep(1000); }\n",
        "                catch (InterruptedException e) { break; }\n",
        "            }\n",
        "        });\n",
        "\n",
        "        Thread t2 = new Thread(() -> {\n",
        "            while (true) {\n",
        "                System.out.println(\"Thread 2\");\n",
        "                try { Thread.sleep(2000); }\n",
        "                catch (InterruptedException e) { break; }\n",
        "            }\n",
        "        });\n",
        "\n",
        "        t1.start();\n",
        "        t2.start();\n",
        "    }\n",
        "}\n"
      ],
      "metadata": {
        "id": "ci7DRerbsHyQ"
      },
      "execution_count": null,
      "outputs": []
    },
    {
      "cell_type": "code",
      "source": [
        "!javac ThreadSleepExample.java\n",
        "!java ThreadSleepExample"
      ],
      "metadata": {
        "id": "DWt21Yx0sHu5"
      },
      "execution_count": null,
      "outputs": []
    },
    {
      "cell_type": "code",
      "source": [
        "%%writefile ThreadSleepSimple.java\n",
        "public class ThreadSleepSimple {\n",
        "    public static void main(String[] args) {\n",
        "        Thread t1 = new Thread(() -> {\n",
        "            try {\n",
        "                while (true) {\n",
        "                    System.out.println(\"Thread 1\");\n",
        "                    Thread.sleep(1000); // 1 second\n",
        "                }\n",
        "            } catch (InterruptedException e) {\n",
        "                // thread interrupted => exit\n",
        "                System.out.println(\"Thread 1 interrupted, exiting.\");\n",
        "            }\n",
        "        });\n",
        "\n",
        "        Thread t2 = new Thread(() -> {\n",
        "            try {\n",
        "                while (true) {\n",
        "                    System.out.println(\"Thread 2\");\n",
        "                    Thread.sleep(2000); // 2 seconds\n",
        "                }\n",
        "            } catch (InterruptedException e) {\n",
        "                System.out.println(\"Thread 2 interrupted, exiting.\");\n",
        "            }\n",
        "        });\n",
        "\n",
        "        t1.start();\n",
        "        t2.start();\n",
        "    }\n",
        "}\n"
      ],
      "metadata": {
        "id": "I-5vftllsHtH",
        "colab": {
          "base_uri": "https://localhost:8080/"
        },
        "outputId": "578c31b4-c42d-44bb-de11-775d45a738c6"
      },
      "execution_count": 3,
      "outputs": [
        {
          "output_type": "stream",
          "name": "stdout",
          "text": [
            "Writing ThreadSleepSimple.java\n"
          ]
        }
      ]
    },
    {
      "cell_type": "code",
      "source": [
        "!javac ThreadSleepSimple.java\n",
        "!java ThreadSleepSimple"
      ],
      "metadata": {
        "id": "fKYFrwknsHpK",
        "colab": {
          "base_uri": "https://localhost:8080/"
        },
        "outputId": "f0b02d11-a7ce-4a27-a97e-a7c4e282d4a2"
      },
      "execution_count": 5,
      "outputs": [
        {
          "output_type": "stream",
          "name": "stdout",
          "text": [
            "Thread 1\n",
            "Thread 2\n",
            "Thread 1\n",
            "Thread 2\n",
            "Thread 1\n",
            "Thread 1\n"
          ]
        }
      ]
    },
    {
      "cell_type": "code",
      "source": [
        "%%writefile TicketBookingSystem.java\n",
        "class TicketBooking {\n",
        "    private int availableTickets = 5;\n",
        "\n",
        "    public synchronized void bookTicket(String user) {\n",
        "        if (availableTickets > 0) {\n",
        "            System.out.println(user + \" booked a ticket.\");\n",
        "            availableTickets--;\n",
        "        } else {\n",
        "            System.out.println(user + \" tried to book but tickets sold out!\");\n",
        "        }\n",
        "    }\n",
        "}\n",
        "\n",
        "public class TicketBookingSystem {\n",
        "    public static void main(String[] args) {\n",
        "        TicketBooking tb = new TicketBooking();\n",
        "\n",
        "        Runnable task = () -> tb.bookTicket(Thread.currentThread().getName());\n",
        "\n",
        "        Thread t1 = new Thread(task, \"User1\");\n",
        "        Thread t2 = new Thread(task, \"User2\");\n",
        "        Thread t3 = new Thread(task, \"User3\");\n",
        "\n",
        "        t1.start();\n",
        "        t2.start();\n",
        "        t3.start();\n",
        "    }\n",
        "}\n"
      ],
      "metadata": {
        "id": "Qdtshno3sHnB",
        "colab": {
          "base_uri": "https://localhost:8080/"
        },
        "outputId": "28c15826-af4f-4eef-a729-699338c96ad2"
      },
      "execution_count": 8,
      "outputs": [
        {
          "output_type": "stream",
          "name": "stdout",
          "text": [
            "Writing TicketBookingSystem.java\n"
          ]
        }
      ]
    },
    {
      "cell_type": "code",
      "source": [
        "!javac TicketBookingSystem.java\n",
        "!java TicketBookingSystem"
      ],
      "metadata": {
        "id": "slYPyBAmsHjM",
        "colab": {
          "base_uri": "https://localhost:8080/"
        },
        "outputId": "48321151-0e11-4861-e604-490591cc2c75"
      },
      "execution_count": 9,
      "outputs": [
        {
          "output_type": "stream",
          "name": "stdout",
          "text": [
            "User1 booked a ticket.\n",
            "User3 booked a ticket.\n",
            "User2 booked a ticket.\n"
          ]
        }
      ]
    },
    {
      "cell_type": "code",
      "source": [
        "%%writefile InventorySystem.java\n",
        "class Inventory {\n",
        "    private int stock = 10;\n",
        "\n",
        "    public void purchase(String user) {\n",
        "        synchronized (this) {\n",
        "            if (stock > 0) {\n",
        "                System.out.println(user + \" bought 1 item.\");\n",
        "                stock--;\n",
        "            } else {\n",
        "                System.out.println(user + \" tried to buy but out of stock!\");\n",
        "            }\n",
        "        }\n",
        "    }\n",
        "}\n",
        "\n",
        "public class InventorySystem {\n",
        "    public static void main(String[] args) {\n",
        "        Inventory inv = new Inventory();\n",
        "\n",
        "        Runnable task = () -> inv.purchase(Thread.currentThread().getName());\n",
        "\n",
        "        for (int i = 1; i <= 12; i++) {\n",
        "            new Thread(task, \"User\" + i).start();\n",
        "        }\n",
        "    }\n",
        "}\n"
      ],
      "metadata": {
        "id": "a4AkHQ-UsHhP",
        "colab": {
          "base_uri": "https://localhost:8080/"
        },
        "outputId": "5158f15a-9982-4d7a-e503-980ecbac9390"
      },
      "execution_count": 12,
      "outputs": [
        {
          "output_type": "stream",
          "name": "stdout",
          "text": [
            "Writing InventorySystem.java\n"
          ]
        }
      ]
    },
    {
      "cell_type": "code",
      "source": [
        "!javac InventorySystem.java\n",
        "!java InventorySystem"
      ],
      "metadata": {
        "id": "y6zEfbJPsHdf",
        "colab": {
          "base_uri": "https://localhost:8080/"
        },
        "outputId": "b4d623da-07da-41b6-cdd3-14dce5250bfe"
      },
      "execution_count": 13,
      "outputs": [
        {
          "output_type": "stream",
          "name": "stdout",
          "text": [
            "User1 bought 1 item.\n",
            "User12 bought 1 item.\n",
            "User11 bought 1 item.\n",
            "User10 bought 1 item.\n",
            "User3 bought 1 item.\n",
            "User9 bought 1 item.\n",
            "User8 bought 1 item.\n",
            "User7 bought 1 item.\n",
            "User6 bought 1 item.\n",
            "User5 bought 1 item.\n",
            "User4 tried to buy but out of stock!\n",
            "User2 tried to buy but out of stock!\n"
          ]
        }
      ]
    },
    {
      "cell_type": "code",
      "source": [
        "%%writefile DeadlockExample.java\n",
        "public class DeadlockExample {\n",
        "    private final Object chopstick1 = new Object();\n",
        "    private final Object chopstick2 = new Object();\n",
        "\n",
        "    public void philosopher1() {\n",
        "        synchronized (chopstick1) {\n",
        "            System.out.println(\"Philosopher 1 picked chopstick1\");\n",
        "            try { Thread.sleep(100); } catch (InterruptedException ignored) {}\n",
        "            synchronized (chopstick2) {\n",
        "                System.out.println(\"Philosopher 1 picked chopstick2\");\n",
        "            }\n",
        "        }\n",
        "    }\n",
        "\n",
        "    public void philosopher2() {\n",
        "        synchronized (chopstick2) {\n",
        "            System.out.println(\"Philosopher 2 picked chopstick2\");\n",
        "            try { Thread.sleep(100); } catch (InterruptedException ignored) {}\n",
        "            synchronized (chopstick1) {\n",
        "                System.out.println(\"Philosopher 2 picked chopstick1\");\n",
        "            }\n",
        "        }\n",
        "    }\n",
        "\n",
        "    public static void main(String[] args) {\n",
        "        DeadlockExample d = new DeadlockExample();\n",
        "        new Thread(d::philosopher1).start();\n",
        "        new Thread(d::philosopher2).start();\n",
        "    }\n",
        "}\n"
      ],
      "metadata": {
        "id": "z8yiU_8DsHbd",
        "colab": {
          "base_uri": "https://localhost:8080/"
        },
        "outputId": "b069ad4c-5fbe-4c04-f457-1c94e6b4c9e1"
      },
      "execution_count": 14,
      "outputs": [
        {
          "output_type": "stream",
          "name": "stdout",
          "text": [
            "Writing DeadlockExample.java\n"
          ]
        }
      ]
    },
    {
      "cell_type": "code",
      "source": [
        "!javac DeadlockExample.java\n",
        "!java DeadlockExample"
      ],
      "metadata": {
        "id": "ce7MjVOlsHXh",
        "colab": {
          "base_uri": "https://localhost:8080/"
        },
        "outputId": "a1f9a8de-6712-4ac4-fc40-5491eb29465a"
      },
      "execution_count": 16,
      "outputs": [
        {
          "metadata": {
            "tags": null
          },
          "name": "stdout",
          "output_type": "stream",
          "text": [
            "Philosopher 1 picked chopstick1\n",
            "Philosopher 2 picked chopstick2\n"
          ]
        }
      ]
    },
    {
      "cell_type": "code",
      "source": [
        "%%writefileProducerConsumer.java\n",
        "import java.util.LinkedList;\n",
        "import java.util.Queue;\n",
        "\n",
        "class Buffer {\n",
        "    private final Queue<Integer> queue = new LinkedList<>();\n",
        "    private final int capacity = 5;\n",
        "\n",
        "    public synchronized void produce(int item) throws InterruptedException {\n",
        "        while (queue.size() == capacity) {\n",
        "            wait();\n",
        "        }\n",
        "        queue.add(item);\n",
        "        System.out.println(\"Produced: \" + item);\n",
        "        notifyAll();\n",
        "    }\n",
        "\n",
        "    public synchronized void consume() throws InterruptedException {\n",
        "        while (queue.isEmpty()) {\n",
        "            wait();\n",
        "        }\n",
        "        int item = queue.remove();\n",
        "        System.out.println(\"Consumed: \" + item);\n",
        "        notifyAll();\n",
        "    }\n",
        "}\n",
        "\n",
        "public class ProducerConsumer {\n",
        "    public static void main(String[] args) {\n",
        "        Buffer buffer = new Buffer();\n",
        "\n",
        "        Thread producer = new Thread(() -> {\n",
        "            for (int i = 1; i <= 10; i++) {\n",
        "                try { buffer.produce(i); Thread.sleep(200); } catch (Exception ignored) {}\n",
        "            }\n",
        "        });\n",
        "\n",
        "        Thread consumer = new Thread(() -> {\n",
        "            for (int i = 1; i <= 10; i++) {\n",
        "                try { buffer.consume(); Thread.sleep(300); } catch (Exception ignored) {}\n",
        "            }\n",
        "        });\n",
        "\n",
        "        producer.start();\n",
        "        consumer.start();\n",
        "    }\n",
        "}\n"
      ],
      "metadata": {
        "id": "UPKfHWDusHVf",
        "colab": {
          "base_uri": "https://localhost:8080/"
        },
        "outputId": "0ebab5f5-d122-4ec0-9729-496651835473"
      },
      "execution_count": 18,
      "outputs": [
        {
          "output_type": "stream",
          "name": "stderr",
          "text": [
            "UsageError: Cell magic `%%writefileProducerConsumer.java` not found.\n"
          ]
        }
      ]
    },
    {
      "cell_type": "code",
      "source": [
        "!javac ProducerConsumer.java\n",
        "!java ProducerConsumer"
      ],
      "metadata": {
        "id": "QuTCpVMdsHRm",
        "colab": {
          "base_uri": "https://localhost:8080/"
        },
        "outputId": "f9e47882-781a-449e-b00c-f236dc2b9a53"
      },
      "execution_count": 19,
      "outputs": [
        {
          "output_type": "stream",
          "name": "stdout",
          "text": [
            "error: file not found: ProducerConsumer.java\n",
            "Usage: javac <options> <source files>\n",
            "use --help for a list of possible options\n",
            "Error: Could not find or load main class ProducerConsumer\n",
            "Caused by: java.lang.ClassNotFoundException: ProducerConsumer\n"
          ]
        }
      ]
    },
    {
      "cell_type": "code",
      "source": [
        "%%writefile OddEvenThread.java\n",
        "class OddEvenPrinter {\n",
        "    private int num = 1;\n",
        "    private final int limit = 20;\n",
        "    private boolean oddTurn = true;\n",
        "\n",
        "    public synchronized void printOdd() {\n",
        "        while (num <= limit) {\n",
        "            while (!oddTurn) {\n",
        "                try { wait(); } catch (InterruptedException ignored) {}\n",
        "            }\n",
        "            System.out.println(\"Odd: \" + num++);\n",
        "            oddTurn = false;\n",
        "            notifyAll();\n",
        "        }\n",
        "    }\n",
        "\n",
        "    public synchronized void printEven() {\n",
        "        while (num <= limit) {\n",
        "            while (oddTurn) {\n",
        "                try { wait(); } catch (InterruptedException ignored) {}\n",
        "            }\n",
        "            System.out.println(\"Even: \" + num++);\n",
        "            oddTurn = true;\n",
        "            notifyAll();\n",
        "        }\n",
        "    }\n",
        "}\n",
        "\n",
        "public class OddEvenThread {\n",
        "    public static void main(String[] args) {\n",
        "        OddEvenPrinter printer = new OddEvenPrinter();\n",
        "        new Thread(printer::printOdd).start();\n",
        "        new Thread(printer::printEven).start();\n",
        "    }\n",
        "}\n"
      ],
      "metadata": {
        "id": "pmNqVxD_sHPf",
        "colab": {
          "base_uri": "https://localhost:8080/"
        },
        "outputId": "672344d1-590e-4aa7-9137-16bbf53f35a8"
      },
      "execution_count": 24,
      "outputs": [
        {
          "output_type": "stream",
          "name": "stdout",
          "text": [
            "Writing OddEvenThread.java\n"
          ]
        }
      ]
    },
    {
      "cell_type": "code",
      "source": [
        "!javac OddEvenThread.java\n",
        "!java OddEvenThread"
      ],
      "metadata": {
        "id": "S-3_jAq5sHLZ",
        "colab": {
          "base_uri": "https://localhost:8080/"
        },
        "outputId": "18251c8f-6748-4662-93a2-444d499152e6"
      },
      "execution_count": 25,
      "outputs": [
        {
          "output_type": "stream",
          "name": "stdout",
          "text": [
            "Odd: 1\n",
            "Even: 2\n",
            "Odd: 3\n",
            "Even: 4\n",
            "Odd: 5\n",
            "Even: 6\n",
            "Odd: 7\n",
            "Even: 8\n",
            "Odd: 9\n",
            "Even: 10\n",
            "Odd: 11\n",
            "Even: 12\n",
            "Odd: 13\n",
            "Even: 14\n",
            "Odd: 15\n",
            "Even: 16\n",
            "Odd: 17\n",
            "Even: 18\n",
            "Odd: 19\n",
            "Even: 20\n",
            "Odd: 21\n"
          ]
        }
      ]
    },
    {
      "cell_type": "code",
      "source": [
        "%%writefile FileDownload.java\n",
        "class DownloadTask implements Runnable {\n",
        "    private volatile boolean running = true;\n",
        "\n",
        "    public void stop() {\n",
        "        running = false;\n",
        "    }\n",
        "\n",
        "    @Override\n",
        "    public void run() {\n",
        "        int chunk = 1;\n",
        "        while (running) {\n",
        "            System.out.println(\"Downloading chunk \" + chunk++);\n",
        "            try { Thread.sleep(500); } catch (InterruptedException ignored) {}\n",
        "        }\n",
        "        System.out.println(\"Download stopped.\");\n",
        "    }\n",
        "}\n",
        "\n",
        "public class FileDownload {\n",
        "    public static void main(String[] args) throws InterruptedException {\n",
        "        DownloadTask task = new DownloadTask();\n",
        "        Thread t = new Thread(task);\n",
        "        t.start();\n",
        "\n",
        "        Thread.sleep(3000); // simulate user stop after 3s\n",
        "        task.stop();\n",
        "        t.join();\n",
        "        System.out.println(\"Main finished.\");\n",
        "    }\n",
        "}\n"
      ],
      "metadata": {
        "id": "5G5qUYzxsHJM",
        "colab": {
          "base_uri": "https://localhost:8080/"
        },
        "outputId": "c942c64f-b2b9-4713-8275-e2279d4fe4de"
      },
      "execution_count": 26,
      "outputs": [
        {
          "output_type": "stream",
          "name": "stdout",
          "text": [
            "Writing FileDownload.java\n"
          ]
        }
      ]
    },
    {
      "cell_type": "code",
      "source": [
        "!javac FileDownload.java\n",
        "!java FileDownload"
      ],
      "metadata": {
        "id": "fcRvS8pHsHFK",
        "colab": {
          "base_uri": "https://localhost:8080/"
        },
        "outputId": "6edd7b06-1031-4f26-cabe-da2c12b4b597"
      },
      "execution_count": 27,
      "outputs": [
        {
          "output_type": "stream",
          "name": "stdout",
          "text": [
            "Downloading chunk 1\n",
            "Downloading chunk 2\n",
            "Downloading chunk 3\n",
            "Downloading chunk 4\n",
            "Downloading chunk 5\n",
            "Downloading chunk 6\n",
            "Download stopped.\n",
            "Main finished.\n"
          ]
        }
      ]
    },
    {
      "cell_type": "code",
      "source": [
        "%%writefile CounterWithoutLock.java\n",
        "class UnsafeCounter {\n",
        "    private int count = 0;\n",
        "\n",
        "    public void increment() {\n",
        "        count++; // Not thread-safe\n",
        "    }\n",
        "\n",
        "    public int getCount() {\n",
        "        return count;\n",
        "    }\n",
        "}\n",
        "\n",
        "public class CounterWithoutLock {\n",
        "    public static void main(String[] args) throws InterruptedException {\n",
        "        UnsafeCounter counter = new UnsafeCounter();\n",
        "\n",
        "        Runnable task = () -> {\n",
        "            for (int i = 0; i < 1000; i++) {\n",
        "                counter.increment();\n",
        "            }\n",
        "        };\n",
        "\n",
        "        Thread t1 = new Thread(task);\n",
        "        Thread t2 = new Thread(task);\n",
        "\n",
        "        t1.start();\n",
        "        t2.start();\n",
        "        t1.join();\n",
        "        t2.join();\n",
        "\n",
        "        System.out.println(\"Final Count (without lock): \" + counter.getCount());\n",
        "    }\n",
        "}\n"
      ],
      "metadata": {
        "id": "RTA5BbcbsHC8",
        "colab": {
          "base_uri": "https://localhost:8080/"
        },
        "outputId": "9ea03703-7448-4cea-a38e-0749f0e306ef"
      },
      "execution_count": 28,
      "outputs": [
        {
          "output_type": "stream",
          "name": "stdout",
          "text": [
            "Writing CounterWithoutLock.java\n"
          ]
        }
      ]
    },
    {
      "cell_type": "code",
      "source": [
        "!javac CounterWithoutLock.java\n",
        "!java CounterWithoutLock"
      ],
      "metadata": {
        "id": "5I7CFcutsG_D",
        "colab": {
          "base_uri": "https://localhost:8080/"
        },
        "outputId": "ba614f2a-67ae-46b1-8b06-593fabd8a3a1"
      },
      "execution_count": 29,
      "outputs": [
        {
          "output_type": "stream",
          "name": "stdout",
          "text": [
            "Final Count (without lock): 1933\n"
          ]
        }
      ]
    },
    {
      "cell_type": "code",
      "source": [
        "import java.util.concurrent.locks.Lock;\n",
        "import java.util.concurrent.locks.ReentrantLock;\n",
        "\n",
        "class SafeCounter {\n",
        "    private int count = 0;\n",
        "    private final Lock lock = new ReentrantLock();\n",
        "\n",
        "    public void increment() {\n",
        "        lock.lock();\n",
        "        try {\n",
        "            count++;\n",
        "        } finally {\n",
        "            lock.unlock();\n",
        "        }\n",
        "    }\n",
        "\n",
        "    public int getCount() {\n",
        "        return count;\n",
        "    }\n",
        "}\n",
        "\n",
        "public class CounterWithLock {\n",
        "    public static void main(String[] args) throws InterruptedException {\n",
        "        SafeCounter counter = new SafeCounter();\n",
        "\n",
        "        Runnable task = () -> {\n",
        "            for (int i = 0; i < 1000; i++) {\n",
        "                counter.increment();\n",
        "            }\n",
        "        };\n",
        "\n",
        "        Thread t1 = new Thread(task);\n",
        "        Thread t2 = new Thread(task);\n",
        "\n",
        "        t1.start();\n",
        "        t2.start();\n",
        "        t1.join();\n",
        "        t2.join();\n",
        "\n",
        "        System.out.println(\"Final Count (with lock): \" + counter.getCount());\n",
        "    }\n",
        "}\n"
      ],
      "metadata": {
        "id": "MeAcWp9MsG8y"
      },
      "execution_count": null,
      "outputs": []
    },
    {
      "cell_type": "code",
      "source": [
        "import java.util.concurrent.TimeUnit;\n",
        "import java.util.concurrent.locks.Lock;\n",
        "import java.util.concurrent.locks.ReentrantLock;\n",
        "\n",
        "public class DeadlockFixed {\n",
        "    private final Lock lock1 = new ReentrantLock();\n",
        "    private final Lock lock2 = new ReentrantLock();\n",
        "\n",
        "    public void task1() {\n",
        "        try {\n",
        "            if (lock1.tryLock(500, TimeUnit.MILLISECONDS)) {\n",
        "                System.out.println(\"Task1 acquired Lock1\");\n",
        "                Thread.sleep(100);\n",
        "\n",
        "                if (lock2.tryLock(500, TimeUnit.MILLISECONDS)) {\n",
        "                    try {\n",
        "                        System.out.println(\"Task1 acquired Lock2\");\n",
        "                    } finally {\n",
        "                        lock2.unlock();\n",
        "                    }\n",
        "                } else {\n",
        "                    System.out.println(\"Task1 could not acquire Lock2, releasing Lock1\");\n",
        "                }\n",
        "                lock1.unlock();\n",
        "            }\n",
        "        } catch (InterruptedException ignored) {}\n",
        "    }\n",
        "\n",
        "    public void task2() {\n",
        "        try {\n",
        "            if (lock2.tryLock(500, TimeUnit.MILLISECONDS)) {\n",
        "                System.out.println(\"Task2 acquired Lock2\");\n",
        "                Thread.sleep(100);\n",
        "\n",
        "                if (lock1.tryLock(500, TimeUnit.MILLISECONDS)) {\n",
        "                    try {\n",
        "                        System.out.println(\"Task2 acquired Lock1\");\n",
        "                    } finally {\n",
        "                        lock1.unlock();\n",
        "                    }\n",
        "                } else {\n",
        "                    System.out.println(\"Task2 could not acquire Lock1, releasing Lock2\");\n",
        "                }\n",
        "                lock2.unlock();\n",
        "            }\n",
        "        } catch (InterruptedException ignored) {}\n",
        "    }\n",
        "\n",
        "    public static void main(String[] args) {\n",
        "        DeadlockFixed d = new DeadlockFixed();\n",
        "        new Thread(d::task1).start();\n",
        "        new Thread(d::task2).start();\n",
        "    }\n",
        "}\n"
      ],
      "metadata": {
        "id": "sjDX2cpwsG4x"
      },
      "execution_count": null,
      "outputs": []
    },
    {
      "cell_type": "code",
      "source": [
        "import java.io.FileInputStream;\n",
        "import java.io.IOException;\n",
        "\n",
        "public class ReadFileByteStream {\n",
        "    public static void main(String[] args) {\n",
        "        try (FileInputStream fis = new FileInputStream(\"input.txt\")) {\n",
        "            int ch;\n",
        "            while ((ch = fis.read()) != -1) {\n",
        "                System.out.print((char) ch);\n",
        "            }\n",
        "        } catch (IOException e) {\n",
        "            System.out.println(\"Error reading file: \" + e.getMessage());\n",
        "        }\n",
        "    }\n",
        "}\n"
      ],
      "metadata": {
        "id": "KMrrqljpsG2c"
      },
      "execution_count": null,
      "outputs": []
    },
    {
      "cell_type": "code",
      "source": [
        "import java.io.FileOutputStream;\n",
        "import java.io.IOException;\n",
        "\n",
        "public class WriteFileByteStream {\n",
        "    public static void main(String[] args) {\n",
        "        String data = \"Java I/O Streams Example\";\n",
        "        try (FileOutputStream fos = new FileOutputStream(\"output.txt\")) {\n",
        "            fos.write(data.getBytes());\n",
        "            System.out.println(\"Data written successfully to output.txt\");\n",
        "        } catch (IOException e) {\n",
        "            System.out.println(\"Error writing file: \" + e.getMessage());\n",
        "        }\n",
        "    }\n",
        "}\n"
      ],
      "metadata": {
        "id": "1G9maphFsGyU"
      },
      "execution_count": null,
      "outputs": []
    },
    {
      "cell_type": "code",
      "source": [
        "import java.io.FileReader;\n",
        "import java.io.IOException;\n",
        "\n",
        "public class ReadFileCharStream {\n",
        "    public static void main(String[] args) {\n",
        "        try (FileReader fr = new FileReader(\"input.txt\")) {\n",
        "            int ch;\n",
        "            while ((ch = fr.read()) != -1) {\n",
        "                System.out.print((char) ch);\n",
        "            }\n",
        "        } catch (IOException e) {\n",
        "            System.out.println(\"Error reading file: \" + e.getMessage());\n",
        "        }\n",
        "    }\n",
        "}\n"
      ],
      "metadata": {
        "id": "NkfHdtXosGwB"
      },
      "execution_count": null,
      "outputs": []
    },
    {
      "cell_type": "code",
      "source": [
        "import java.io.FileWriter;\n",
        "import java.io.IOException;\n",
        "\n",
        "public class WriteFileCharStream {\n",
        "    public static void main(String[] args) {\n",
        "        String data = \"This is written using FileWriter in Java.\";\n",
        "        try (FileWriter fw = new FileWriter(\"example.txt\")) {\n",
        "            fw.write(data);\n",
        "            System.out.println(\"Data written successfully to example.txt\");\n",
        "        } catch (IOException e) {\n",
        "            System.out.println(\"Error writing file: \" + e.getMessage());\n",
        "        }\n",
        "    }\n",
        "}\n"
      ],
      "metadata": {
        "id": "fraQiSwUsGsB"
      },
      "execution_count": null,
      "outputs": []
    },
    {
      "cell_type": "code",
      "source": [
        "import java.io.*;\n",
        "\n",
        "public class BufferedIOExample {\n",
        "    public static void main(String[] args) {\n",
        "        String data = \"Buffered I/O in Java improves performance.\";\n",
        "\n",
        "        // Write using BufferedWriter\n",
        "        try (BufferedWriter bw = new BufferedWriter(new FileWriter(\"buffered.txt\"))) {\n",
        "            bw.write(data);\n",
        "            System.out.println(\"Data written successfully to buffered.txt\");\n",
        "        } catch (IOException e) {\n",
        "            System.out.println(\"Error writing file: \" + e.getMessage());\n",
        "        }\n",
        "\n",
        "        // Read using BufferedReader\n",
        "        try (BufferedReader br = new BufferedReader(new FileReader(\"buffered.txt\"))) {\n",
        "            String line;\n",
        "            System.out.println(\"Reading from buffered.txt:\");\n",
        "            while ((line = br.readLine()) != null) {\n",
        "                System.out.println(line);\n",
        "            }\n",
        "        } catch (IOException e) {\n",
        "            System.out.println(\"Error reading file: \" + e.getMessage());\n",
        "        }\n",
        "    }\n",
        "}\n"
      ],
      "metadata": {
        "id": "Pezj1lsZsGpv"
      },
      "execution_count": null,
      "outputs": []
    },
    {
      "cell_type": "code",
      "source": [
        "import java.io.File;\n",
        "import java.io.IOException;\n",
        "\n",
        "public class FileCheck {\n",
        "    public static void main(String[] args) {\n",
        "        File file = new File(\"test.txt\");\n",
        "\n",
        "        try {\n",
        "            if (file.exists()) {\n",
        "                System.out.println(\"File exists: \" + file.getAbsolutePath());\n",
        "            } else {\n",
        "                if (file.createNewFile()) {\n",
        "                    System.out.println(\"File created: \" + file.getAbsolutePath());\n",
        "                }\n",
        "            }\n",
        "        } catch (IOException e) {\n",
        "            System.out.println(\"Error: \" + e.getMessage());\n",
        "        }\n",
        "    }\n",
        "}\n"
      ],
      "metadata": {
        "id": "FljC32sesGlz"
      },
      "execution_count": null,
      "outputs": []
    },
    {
      "cell_type": "code",
      "source": [
        "import java.io.File;\n",
        "\n",
        "public class ListFiles {\n",
        "    public static void main(String[] args) {\n",
        "        File dir = new File(\".\");\n",
        "\n",
        "        if (dir.isDirectory()) {\n",
        "            String[] files = dir.list();\n",
        "            System.out.println(\"Files in directory:\");\n",
        "            if (files != null) {\n",
        "                for (String name : files) {\n",
        "                    System.out.println(name);\n",
        "                }\n",
        "            }\n",
        "        } else {\n",
        "            System.out.println(\"Not a valid directory\");\n",
        "        }\n",
        "    }\n",
        "}\n"
      ],
      "metadata": {
        "id": "kZxVnTspsGjr"
      },
      "execution_count": null,
      "outputs": []
    },
    {
      "cell_type": "code",
      "source": [
        "%%writefile CopyFile.java\n",
        "import java.io.FileInputStream;\n",
        "import java.io.FileOutputStream;\n",
        "import java.io.IOException;\n",
        "\n",
        "public class CopyFile {\n",
        "    public static void main(String[] args) {\n",
        "        try (FileInputStream fis = new FileInputStream(\"source.txt\");\n",
        "             FileOutputStream fos = new FileOutputStream(\"copy.txt\")) {\n",
        "\n",
        "            int b;\n",
        "            while ((b = fis.read()) != -1) {\n",
        "                fos.write(b);\n",
        "            }\n",
        "            System.out.println(\"File copied successfully!\");\n",
        "        } catch (IOException e) {\n",
        "            System.out.println(\"Error: \" + e.getMessage());\n",
        "        }\n",
        "    }\n",
        "}\n"
      ],
      "metadata": {
        "id": "lter3nAAsGfn",
        "colab": {
          "base_uri": "https://localhost:8080/"
        },
        "outputId": "709d944c-22cd-4971-beb6-84dc40ea01c6"
      },
      "execution_count": 32,
      "outputs": [
        {
          "output_type": "stream",
          "name": "stdout",
          "text": [
            "Writing CopyFile.java\n"
          ]
        }
      ]
    },
    {
      "cell_type": "code",
      "source": [
        "!javac CopyFile.java\n",
        "!java CopyFile"
      ],
      "metadata": {
        "colab": {
          "base_uri": "https://localhost:8080/"
        },
        "id": "SSCuXuXYsgxV",
        "outputId": "08a470fa-8873-41e0-b283-1db7b3232a11"
      },
      "execution_count": 33,
      "outputs": [
        {
          "output_type": "stream",
          "name": "stdout",
          "text": [
            "Error: source.txt (No such file or directory)\n"
          ]
        }
      ]
    },
    {
      "cell_type": "code",
      "source": [
        "%%writefile DeleteFile.java\n",
        "import java.io.File;\n",
        "\n",
        "public class DeleteFile {\n",
        "    public static void main(String[] args) {\n",
        "        File file = new File(\"delete_me.txt\");\n",
        "\n",
        "        if (file.delete()) {\n",
        "            System.out.println(\"File deleted: \" + file.getName());\n",
        "        } else {\n",
        "            System.out.println(\"Failed to delete file.\");\n",
        "        }\n",
        "    }\n",
        "}\n"
      ],
      "metadata": {
        "id": "9PqpCcSPsGdc",
        "colab": {
          "base_uri": "https://localhost:8080/"
        },
        "outputId": "8db6f17a-4971-491a-e107-6ccb1551ef24"
      },
      "execution_count": 30,
      "outputs": [
        {
          "output_type": "stream",
          "name": "stdout",
          "text": [
            "Writing DeleteFile.java\n"
          ]
        }
      ]
    },
    {
      "cell_type": "code",
      "source": [
        "!javac DeleteFile.java\n",
        "!java DeleteFile"
      ],
      "metadata": {
        "id": "tdrDlmTUsGZY",
        "colab": {
          "base_uri": "https://localhost:8080/"
        },
        "outputId": "dbac5587-6fb0-47b3-85cb-1d608fc02c80"
      },
      "execution_count": 31,
      "outputs": [
        {
          "output_type": "stream",
          "name": "stdout",
          "text": [
            "Failed to delete file.\n"
          ]
        }
      ]
    },
    {
      "cell_type": "code",
      "source": [
        "import java.io.RandomAccessFile;\n",
        "import java.io.IOException;\n",
        "\n",
        "public class RandomAccessFileExample {\n",
        "    public static void main(String[] args) {\n",
        "        try (RandomAccessFile raf = new RandomAccessFile(\"random.txt\", \"rw\")) {\n",
        "            raf.writeUTF(\"Hello, Java!\");  // write at start\n",
        "\n",
        "            raf.seek(6); // move to position\n",
        "            raf.writeUTF(\"World\"); // overwrite part of text\n",
        "\n",
        "            raf.seek(0); // go back to start\n",
        "            System.out.println(\"Reading file content:\");\n",
        "            System.out.println(raf.readUTF());\n",
        "        } catch (IOException e) {\n",
        "            System.out.println(\"Error: \" + e.getMessage());\n",
        "        }\n",
        "    }\n",
        "}\n"
      ],
      "metadata": {
        "id": "oSl_spaXsGXi"
      },
      "execution_count": null,
      "outputs": []
    },
    {
      "cell_type": "code",
      "source": [
        "public class MathExample {\n",
        "    public static void main(String[] args) {\n",
        "        double random = Math.random();\n",
        "        int absVal = Math.abs(-42);\n",
        "        double power = Math.pow(2, 5);\n",
        "\n",
        "        System.out.println(\"Random value: \" + random);\n",
        "        System.out.println(\"Absolute value of -42: \" + absVal);\n",
        "        System.out.println(\"2^5 = \" + power);\n",
        "    }\n",
        "}\n"
      ],
      "metadata": {
        "id": "iozMryN0sGTh"
      },
      "execution_count": null,
      "outputs": []
    },
    {
      "cell_type": "code",
      "source": [
        "import java.util.Date;\n",
        "import java.util.Calendar;\n",
        "\n",
        "public class DateCalendarExample {\n",
        "    public static void main(String[] args) {\n",
        "        Date now = new Date();\n",
        "        System.out.println(\"Current Date (Date class): \" + now);\n",
        "\n",
        "        Calendar cal = Calendar.getInstance();\n",
        "        System.out.println(\"Year: \" + cal.get(Calendar.YEAR));\n",
        "        System.out.println(\"Month: \" + (cal.get(Calendar.MONTH) + 1));\n",
        "        System.out.println(\"Day: \" + cal.get(Calendar.DAY_OF_MONTH));\n",
        "        System.out.println(\"Time: \" + cal.get(Calendar.HOUR_OF_DAY) + \":\" +\n",
        "                           cal.get(Calendar.MINUTE) + \":\" + cal.get(Calendar.SECOND));\n",
        "    }\n",
        "}\n"
      ],
      "metadata": {
        "id": "4u-EJwTFsGRQ"
      },
      "execution_count": null,
      "outputs": []
    },
    {
      "cell_type": "code",
      "source": [
        "import java.util.regex.*;\n",
        "\n",
        "public class EmailValidator {\n",
        "    public static void main(String[] args) {\n",
        "        String email = \"test@example.com\";\n",
        "        String regex = \"^[A-Za-z0-9+_.-]+@[A-Za-z0-9.-]+$\";\n",
        "\n",
        "        Pattern pattern = Pattern.compile(regex);\n",
        "        Matcher matcher = pattern.matcher(email);\n",
        "\n",
        "        if (matcher.matches()) {\n",
        "            System.out.println(email + \" is a valid email address.\");\n",
        "        } else {\n",
        "            System.out.println(email + \" is NOT a valid email address.\");\n",
        "        }\n",
        "    }\n",
        "}\n"
      ],
      "metadata": {
        "id": "rijp9fnnsGNU"
      },
      "execution_count": null,
      "outputs": []
    },
    {
      "cell_type": "code",
      "source": [],
      "metadata": {
        "id": "xlx1O6pAsGLQ"
      },
      "execution_count": null,
      "outputs": []
    },
    {
      "cell_type": "code",
      "source": [],
      "metadata": {
        "id": "9zvip0hssGHZ"
      },
      "execution_count": null,
      "outputs": []
    },
    {
      "cell_type": "code",
      "source": [],
      "metadata": {
        "id": "BtqHRypCsGFe"
      },
      "execution_count": null,
      "outputs": []
    },
    {
      "cell_type": "code",
      "source": [],
      "metadata": {
        "id": "10bc-VQ6sGBm"
      },
      "execution_count": null,
      "outputs": []
    },
    {
      "cell_type": "code",
      "source": [],
      "metadata": {
        "id": "cYj5qqEWsF_i"
      },
      "execution_count": null,
      "outputs": []
    },
    {
      "cell_type": "code",
      "source": [],
      "metadata": {
        "id": "Qe_B4ZCusF7r"
      },
      "execution_count": null,
      "outputs": []
    },
    {
      "cell_type": "code",
      "source": [],
      "metadata": {
        "id": "6TxnvZQKsF5h"
      },
      "execution_count": null,
      "outputs": []
    },
    {
      "cell_type": "code",
      "source": [],
      "metadata": {
        "id": "B580cgSysF1n"
      },
      "execution_count": null,
      "outputs": []
    },
    {
      "cell_type": "code",
      "source": [],
      "metadata": {
        "id": "cskp-3-csFzw"
      },
      "execution_count": null,
      "outputs": []
    },
    {
      "cell_type": "code",
      "source": [],
      "metadata": {
        "id": "EcHY_XjssFv6"
      },
      "execution_count": null,
      "outputs": []
    },
    {
      "cell_type": "code",
      "source": [],
      "metadata": {
        "id": "TWILVPEzsFt_"
      },
      "execution_count": null,
      "outputs": []
    },
    {
      "cell_type": "code",
      "source": [],
      "metadata": {
        "id": "b8MwGq-WsFp9"
      },
      "execution_count": null,
      "outputs": []
    },
    {
      "cell_type": "code",
      "source": [],
      "metadata": {
        "id": "zgbM06UosFoV"
      },
      "execution_count": null,
      "outputs": []
    },
    {
      "cell_type": "code",
      "source": [],
      "metadata": {
        "id": "iV8narn-sFkd"
      },
      "execution_count": null,
      "outputs": []
    },
    {
      "cell_type": "code",
      "source": [],
      "metadata": {
        "id": "VT3F4USpsFie"
      },
      "execution_count": null,
      "outputs": []
    },
    {
      "cell_type": "code",
      "source": [],
      "metadata": {
        "id": "YyeSCl2usFep"
      },
      "execution_count": null,
      "outputs": []
    },
    {
      "cell_type": "code",
      "source": [],
      "metadata": {
        "id": "bDGR0a-UsFcp"
      },
      "execution_count": null,
      "outputs": []
    },
    {
      "cell_type": "code",
      "source": [],
      "metadata": {
        "id": "4kSB8CizsFYc"
      },
      "execution_count": null,
      "outputs": []
    },
    {
      "cell_type": "code",
      "source": [],
      "metadata": {
        "id": "px0RvjrrsFW3"
      },
      "execution_count": null,
      "outputs": []
    },
    {
      "cell_type": "code",
      "source": [],
      "metadata": {
        "id": "J_xbKAc3sFS5"
      },
      "execution_count": null,
      "outputs": []
    },
    {
      "cell_type": "code",
      "source": [],
      "metadata": {
        "id": "UCEnwqPHsFRN"
      },
      "execution_count": null,
      "outputs": []
    }
  ]
}