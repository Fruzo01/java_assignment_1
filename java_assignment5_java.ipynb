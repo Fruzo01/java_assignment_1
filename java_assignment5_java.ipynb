{
  "nbformat": 4,
  "nbformat_minor": 0,
  "metadata": {
    "colab": {
      "provenance": [],
      "authorship_tag": "ABX9TyMIfpsI6hlAYNVLMTdvDQ8k",
      "include_colab_link": true
    },
    "kernelspec": {
      "name": "python3",
      "display_name": "Python 3"
    },
    "language_info": {
      "name": "python"
    }
  },
  "cells": [
    {
      "cell_type": "markdown",
      "metadata": {
        "id": "view-in-github",
        "colab_type": "text"
      },
      "source": [
        "<a href=\"https://colab.research.google.com/github/Fruzo01/java_assignment_1/blob/main/java_assignment5_java.ipynb\" target=\"_parent\"><img src=\"https://colab.research.google.com/assets/colab-badge.svg\" alt=\"Open In Colab\"/></a>"
      ]
    },
    {
      "cell_type": "code",
      "source": [
        "!curl -O https://raw.githubusercontent.com/deepjavalibrary/d2l-java/master/tools/colab_build.sh && bash colab_build.sh"
      ],
      "metadata": {
        "colab": {
          "base_uri": "https://localhost:8080/"
        },
        "id": "HMLWHVz0NMrU",
        "outputId": "24ec8d08-1bbe-475e-997d-ccbfd4eb21f1"
      },
      "execution_count": 1,
      "outputs": [
        {
          "output_type": "stream",
          "name": "stdout",
          "text": [
            "  % Total    % Received % Xferd  Average Speed   Time    Time     Time  Current\n",
            "                                 Dload  Upload   Total   Spent    Left  Speed\n",
            "\r  0     0    0     0    0     0      0      0 --:--:-- --:--:-- --:--:--     0\r100   520  100   520    0     0   3736      0 --:--:-- --:--:-- --:--:--  3741\n",
            "Update environment...\n",
            "Install Java...\n",
            "Install Jupyter java kernel...\n"
          ]
        }
      ]
    },
    {
      "cell_type": "code",
      "source": [
        "import os\n",
        "def install_java():\n",
        " !apt-get install -y openjdk-8-jdk-headless -qq > /dev/null\n",
        " os.environ[\"JAVA_HOME\"] = \"/usr/lib/jvm/java-8-openjdk-amd64\"\n",
        " !java -version\n",
        "install_java()"
      ],
      "metadata": {
        "colab": {
          "base_uri": "https://localhost:8080/"
        },
        "id": "KzRjQpDUNMpm",
        "outputId": "fc6c13aa-5495-4957-a435-607b21198169"
      },
      "execution_count": 2,
      "outputs": [
        {
          "output_type": "stream",
          "name": "stdout",
          "text": [
            "openjdk version \"11.0.28\" 2025-07-15\n",
            "OpenJDK Runtime Environment (build 11.0.28+6-post-Ubuntu-1ubuntu122.04.1)\n",
            "OpenJDK 64-Bit Server VM (build 11.0.28+6-post-Ubuntu-1ubuntu122.04.1, mixed mode, sharing)\n"
          ]
        }
      ]
    },
    {
      "cell_type": "code",
      "execution_count": 3,
      "metadata": {
        "colab": {
          "base_uri": "https://localhost:8080/"
        },
        "id": "Xw0140flNLCY",
        "outputId": "23412777-2ea1-41ce-875b-92546761619c"
      },
      "outputs": [
        {
          "output_type": "stream",
          "name": "stdout",
          "text": [
            "Writing lab_MavenProjects.java\n"
          ]
        }
      ],
      "source": [
        "%%writefile lab_MavenProjects.java\n",
        "/*\n",
        "=========================================\n",
        "LAB ASSIGNMENT — Maven Project Examples\n",
        "=========================================\n",
        "This file includes 5 Maven-related mini-project examples:\n",
        "1. Maven project using annotations for validation.\n",
        "2. Maven project demonstrating transitive dependencies.\n",
        "3. Core Java app using custom annotations with Maven.\n",
        "4. Maven web app configured using maven-war-plugin.\n",
        "5. Maven multi-module project with shared dependencies.\n",
        "=========================================\n",
        "*/\n",
        "\n",
        "// ========== 1. ANNOTATIONS FOR VALIDATION (example class) ==========\n",
        "import java.lang.annotation.*;\n",
        "import java.lang.reflect.*;\n",
        "\n",
        "@Retention(RetentionPolicy.RUNTIME)\n",
        "@Target(ElementType.FIELD)\n",
        "@interface NotEmpty {}\n",
        "\n",
        "class User {\n",
        "    @NotEmpty\n",
        "    String name;\n",
        "\n",
        "    public User(String name) {\n",
        "        this.name = name;\n",
        "    }\n",
        "\n",
        "    public static void validate(Object obj) throws Exception {\n",
        "        for (Field f : obj.getClass().getDeclaredFields()) {\n",
        "            if (f.isAnnotationPresent(NotEmpty.class)) {\n",
        "                f.setAccessible(true);\n",
        "                Object value = f.get(obj);\n",
        "                if (value == null || value.toString().isEmpty()) {\n",
        "                    throw new Exception(\"Validation failed: \" + f.getName() + \" cannot be empty!\");\n",
        "                }\n",
        "            }\n",
        "        }\n",
        "        System.out.println(\"✅ Validation passed for \" + obj.getClass().getSimpleName());\n",
        "    }\n",
        "}\n",
        "\n",
        "// ========== 2. TRANSITIVE DEPENDENCIES (concept only) ==========\n",
        "/*\n",
        "Example Maven POM structure:\n",
        "\n",
        "<project>\n",
        "  <modelVersion>4.0.0</modelVersion>\n",
        "  <groupId>com.example</groupId>\n",
        "  <artifactId>AppA</artifactId>\n",
        "  <version>1.0</version>\n",
        "  <dependencies>\n",
        "    <dependency>\n",
        "      <groupId>org.apache.commons</groupId>\n",
        "      <artifactId>commons-lang3</artifactId>\n",
        "      <version>3.12.0</version>\n",
        "    </dependency>\n",
        "  </dependencies>\n",
        "</project>\n",
        "\n",
        "If another project AppB depends on AppA, it automatically gets commons-lang3 transitively.\n",
        "*/\n",
        "\n",
        "// ========== 3. CUSTOM ANNOTATIONS WITH MAVEN MANAGED DEPENDENCIES ==========\n",
        "@Retention(RetentionPolicy.RUNTIME)\n",
        "@Target(ElementType.METHOD)\n",
        "@interface Execute {}\n",
        "\n",
        "class MyTask {\n",
        "    @Execute\n",
        "    public void perform() {\n",
        "        System.out.println(\"🚀 Task performed successfully!\");\n",
        "    }\n",
        "}\n",
        "\n",
        "// ========== 4. MAVEN WAR PLUGIN CONFIGURATION (web project) ==========\n",
        "/*\n",
        "pom.xml snippet for web app:\n",
        "\n",
        "<build>\n",
        "  <plugins>\n",
        "    <plugin>\n",
        "      <groupId>org.apache.maven.plugins</groupId>\n",
        "      <artifactId>maven-war-plugin</artifactId>\n",
        "      <version>3.3.2</version>\n",
        "      <configuration>\n",
        "        <warSourceDirectory>src/main/webapp</warSourceDirectory>\n",
        "        <failOnMissingWebXml>false</failOnMissingWebXml>\n",
        "      </configuration>\n",
        "    </plugin>\n",
        "  </plugins>\n",
        "</build>\n",
        "*/\n",
        "\n",
        "// ========== 5. MULTI-MODULE PROJECT STRUCTURE ==========\n",
        "/*\n",
        "Parent pom.xml example:\n",
        "\n",
        "<project>\n",
        "  <modelVersion>4.0.0</modelVersion>\n",
        "  <groupId>com.company</groupId>\n",
        "  <artifactId>parent-project</artifactId>\n",
        "  <packaging>pom</packaging>\n",
        "  <modules>\n",
        "    <module>module-core</module>\n",
        "    <module>module-web</module>\n",
        "  </modules>\n",
        "\n",
        "  <dependencyManagement>\n",
        "    <dependencies>\n",
        "      <dependency>\n",
        "        <groupId>org.slf4j</groupId>\n",
        "        <artifactId>slf4j-api</artifactId>\n",
        "        <version>2.0.7</version>\n",
        "      </dependency>\n",
        "    </dependencies>\n",
        "  </dependencyManagement>\n",
        "</project>\n",
        "*/\n",
        "\n",
        "// ========== MAIN DEMO ==========\n",
        "public class lab_MavenProjects {\n",
        "    public static void main(String[] args) {\n",
        "        try {\n",
        "            System.out.println(\"=== 1. Annotation Validation Demo ===\");\n",
        "            User u = new User(\"Sparsh\");\n",
        "            User.validate(u);\n",
        "            // Uncomment below line to test validation failure\n",
        "            // User emptyUser = new User(\"\");\n",
        "            // User.validate(emptyUser);\n",
        "\n",
        "            System.out.println(\"\\n=== 3. Custom Annotation Demo ===\");\n",
        "            MyTask task = new MyTask();\n",
        "            for (Method m : task.getClass().getDeclaredMethods()) {\n",
        "                if (m.isAnnotationPresent(Execute.class)) {\n",
        "                    m.invoke(task);\n",
        "                }\n",
        "            }\n",
        "\n",
        "            System.out.println(\"\\n✅ Maven examples included for WAR plugin, transitive deps, and multi-module setup.\");\n",
        "        } catch (Exception e) {\n",
        "            System.out.println(\"❌ Error: \" + e.getMessage());\n",
        "        }\n",
        "    }\n",
        "}\n"
      ]
    },
    {
      "cell_type": "code",
      "source": [
        "!javac lab_MavenProjects.java\n",
        "!java lab_MavenProjects"
      ],
      "metadata": {
        "colab": {
          "base_uri": "https://localhost:8080/"
        },
        "id": "9Oo2gt3LNeJf",
        "outputId": "efea2685-1f8d-467c-93b6-d1ccaf6af5bc"
      },
      "execution_count": 4,
      "outputs": [
        {
          "output_type": "stream",
          "name": "stdout",
          "text": [
            "=== 1. Annotation Validation Demo ===\n",
            "✅ Validation passed for User\n",
            "\n",
            "=== 3. Custom Annotation Demo ===\n",
            "🚀 Task performed successfully!\n",
            "\n",
            "✅ Maven examples included for WAR plugin, transitive deps, and multi-module setup.\n"
          ]
        }
      ]
    }
  ]
}